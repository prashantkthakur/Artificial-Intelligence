{
 "cells": [
  {
   "cell_type": "markdown",
   "metadata": {},
   "source": [
    "$\\newcommand{\\xv}{\\mathbf{x}}\n",
    "\\newcommand{\\Xv}{\\mathbf{X}}\n",
    "\\newcommand{\\yv}{\\mathbf{y}}\n",
    "\\newcommand{\\zv}{\\mathbf{z}}\n",
    "\\newcommand{\\av}{\\mathbf{a}}\n",
    "\\newcommand{\\Wv}{\\mathbf{W}}\n",
    "\\newcommand{\\wv}{\\mathbf{w}}\n",
    "\\newcommand{\\tv}{\\mathbf{t}}\n",
    "\\newcommand{\\Tv}{\\mathbf{T}}\n",
    "\\newcommand{\\muv}{\\boldsymbol{\\mu}}\n",
    "\\newcommand{\\sigmav}{\\boldsymbol{\\sigma}}\n",
    "\\newcommand{\\phiv}{\\boldsymbol{\\phi}}\n",
    "\\newcommand{\\Phiv}{\\boldsymbol{\\Phi}}\n",
    "\\newcommand{\\Sigmav}{\\boldsymbol{\\Sigma}}\n",
    "\\newcommand{\\Lambdav}{\\boldsymbol{\\Lambda}}\n",
    "\\newcommand{\\half}{\\frac{1}{2}}\n",
    "\\newcommand{\\argmax}[1]{\\underset{#1}{\\operatorname{argmax}}}\n",
    "\\newcommand{\\argmin}[1]{\\underset{#1}{\\operatorname{argmin}}}$"
   ]
  },
  {
   "cell_type": "markdown",
   "metadata": {},
   "source": [
    "# Assignment 6: Neural Networks"
   ]
  },
  {
   "cell_type": "markdown",
   "metadata": {},
   "source": [
    "Prashant Kumar Thakur"
   ]
  },
  {
   "cell_type": "markdown",
   "metadata": {},
   "source": [
    "## Overview"
   ]
  },
  {
   "cell_type": "markdown",
   "metadata": {},
   "source": [
    "The following functions were defined as per the instruction. The code is refered from Professor's Lecture."
   ]
  },
  {
   "cell_type": "code",
   "execution_count": 1,
   "metadata": {},
   "outputs": [],
   "source": [
    "# Replace this cell with several cells defining the above functions.\n",
    "import numpy as np\n",
    "import neuralnetworks as nn\n",
    "import mlutils as ml\n",
    "import time\n",
    "\n",
    "\n",
    "def trainNNs(X, T,trainFraction, hiddenLayerStructures, numberRepetitions, numberIterations, classify=False):\n",
    "    results = []\n",
    "\n",
    "    # Do tasks here\n",
    "    for h_layer in hiddenLayerStructures:\n",
    "        start = time.time()\n",
    "        train_result = []\n",
    "        test_result = []\n",
    "        for repetition in range(numberRepetitions):\n",
    "            Xtrain, Ttrain, Xtest, Ttest = ml.partition(X,T,(trainFraction,1-trainFraction),classification=classify)\n",
    "            if classify:\n",
    "                nnet = nn.NeuralNetworkClassifier(X.shape[1],h_layer, len(np.unique(Tanuran)))\n",
    "                nnet.train(Xtrain,Ttrain,numberIterations)\n",
    "                pTrain, probsTrain, _ = nnet.use(Xtrain, allOutputs=True)\n",
    "                pTest, probsTest, _ = nnet.use(Xtest, allOutputs=True)  # discard hidden unit outputs\n",
    "                train_result.append(1-ml.percentCorrect(pTrain,Ttrain)/100)\n",
    "                test_result.append(1-ml.percentCorrect(pTest,Ttest)/100)\n",
    "\n",
    "\n",
    "            else:\n",
    "                nnet = nn.NeuralNetwork(X.shape[1],h_layer, T.shape[1])\n",
    "                nnet.train(Xtrain,Ttrain,numberIterations)\n",
    "                Ytrain = nnet.use(Xtrain)\n",
    "                Ytest = nnet.use(Xtest)\n",
    "                trn_rmse = np.sqrt(np.mean((Ytrain - Ttrain) ** 2))\n",
    "                tst_rmse = np.sqrt(np.mean((Ytest - Ttest) ** 2))\n",
    "                train_result.append(trn_rmse)\n",
    "                test_result.append(tst_rmse)\n",
    "\n",
    "#             if repetition == (numberRepetitions-1):\n",
    "        total_time = time.time()-start\n",
    "        results.append([h_layer, train_result, test_result, total_time])\n",
    "\n",
    "\n",
    "    # End tasks\n",
    "\n",
    "    # print(results)\n",
    "    return results\n",
    "\n",
    "\n",
    "def summarize(results):\n",
    "    output = []\n",
    "    for val in results:\n",
    "        output.append([val[0],np.mean(val[1]),np.mean(val[2]),val[-1]])\n",
    "    return output\n",
    "\n",
    "\n",
    "def bestNetwork(summaries):\n",
    "    val = np.array(summaries,dtype=object) # dtype object handles the list as an element in the hidden layer.\n",
    "    idx = np.argmin(val[:,2])\n",
    "    return summaries[idx]\n"
   ]
  },
  {
   "cell_type": "markdown",
   "metadata": {},
   "source": [
    "## Examples\n"
   ]
  },
  {
   "cell_type": "code",
   "execution_count": 2,
   "metadata": {},
   "outputs": [
    {
     "data": {
      "text/plain": [
       "((10, 1), (10, 1))"
      ]
     },
     "execution_count": 2,
     "metadata": {},
     "output_type": "execute_result"
    }
   ],
   "source": [
    "import numpy as np\n",
    "X = np.arange(10).reshape((-1,1))\n",
    "T = X + 1 + np.random.uniform(-1, 1, ((10,1)))\n",
    "X.shape,T.shape"
   ]
  },
  {
   "cell_type": "code",
   "execution_count": 3,
   "metadata": {},
   "outputs": [],
   "source": [
    "import matplotlib.pyplot as plt\n",
    "%matplotlib inline"
   ]
  },
  {
   "cell_type": "code",
   "execution_count": 4,
   "metadata": {},
   "outputs": [
    {
     "data": {
      "image/png": "[encoded data removed]",
      "text/plain": [
       "<matplotlib.figure.Figure at 0x7f3e4c0a47b8>"
      ]
     },
     "metadata": {},
     "output_type": "display_data"
    }
   ],
   "source": [
    "plt.plot(X, T, 'o-');"
   ]
  },
  {
   "cell_type": "code",
   "execution_count": 5,
   "metadata": {},
   "outputs": [
    {
     "data": {
      "text/plain": [
       "array([ 0.70710678,  0.20848856,  0.15047541,  0.14722697,  0.14577401,\n",
       "        0.13862664])"
      ]
     },
     "execution_count": 5,
     "metadata": {},
     "output_type": "execute_result"
    }
   ],
   "source": [
    "import neuralnetworks as nn\n",
    "nnet = nn.NeuralNetwork(X.shape[1], 2, T.shape[1])\n",
    "nnet.train(X, T, 5)\n",
    "nnet.getErrorTrace()"
   ]
  },
  {
   "cell_type": "code",
   "execution_count": 6,
   "metadata": {},
   "outputs": [
    {
     "data": {
      "text/plain": [
       "NeuralNetwork(1, [5, 5, 5], 1)\n",
       "   Network was trained for 101 iterations. Final error is 0.10865944372394622."
      ]
     },
     "execution_count": 6,
     "metadata": {},
     "output_type": "execute_result"
    }
   ],
   "source": [
    "nnet = nn.NeuralNetwork(X.shape[1], [5, 5, 5], T.shape[1])\n",
    "nnet.train(X, T, 100)\n"
   ]
  },
  {
   "cell_type": "code",
   "execution_count": 8,
   "metadata": {},
   "outputs": [],
   "source": [
    "result = trainNNs(X, T, 0.8, [0, 10, [10, 10], [5, 5], [20,20],100,[50,50],20,200,[5,5,5]], 50, 400, classify=False)"
   ]
  },
  {
   "cell_type": "code",
   "execution_count": 10,
   "metadata": {},
   "outputs": [
    {
     "data": {
      "text/plain": [
       "[[0, 0.45607967002822031, 0.50628672348368464, 0.02831864356994629],\n",
       " [10, 0.025089506151798804, 1.4542267877068873, 3.168412446975708],\n",
       " [[10, 10], 0.026276469366545027, 1.2917502689591902, 4.540322780609131],\n",
       " [[5, 5], 0.039223080834405108, 1.2877005736780773, 4.24870228767395],\n",
       " [[20, 20], 0.01563430341068632, 1.2942893119759367, 5.590377569198608],\n",
       " [100, 0.096335271707077869, 1.3571137481605162, 5.263269424438477],\n",
       " [[50, 50], 0.011001320078206402, 1.2201153594981049, 9.55197525024414],\n",
       " [20, 0.03940522712448568, 1.7197773874417115, 3.5008766651153564],\n",
       " [200, 0.13866265710428785, 1.1304555850984896, 7.105364799499512],\n",
       " [[5, 5, 5], 0.11468253278292675, 1.409980938984942, 5.115255832672119]]"
      ]
     },
     "execution_count": 10,
     "metadata": {},
     "output_type": "execute_result"
    }
   ],
   "source": [
    "summarize(result)"
   ]
  },
  {
   "cell_type": "code",
   "execution_count": 11,
   "metadata": {},
   "outputs": [
    {
     "name": "stdout",
     "output_type": "stream",
     "text": [
      "[0, 0.45607967002822031, 0.50628672348368464, 0.02831864356994629]\n",
      "Hidden Layers 0 Average RMSE Training 0.46 Testing 0.51 Took 0.03 seconds\n"
     ]
    }
   ],
   "source": [
    "best = bestNetwork(summarize(result))\n",
    "print(best)\n",
    "print('Hidden Layers {} Average RMSE Training {:.2f} Testing {:.2f} Took {:.2f} seconds'.format(*best))"
   ]
  },
  {
   "cell_type": "code",
   "execution_count": 17,
   "metadata": {},
   "outputs": [
    {
     "data": {
      "image/png": "[encoded data removed]",
      "text/plain": [
       "<matplotlib.figure.Figure at 0x7f3e0d428240>"
      ]
     },
     "metadata": {},
     "output_type": "display_data"
    }
   ],
   "source": [
    "nnet = nn.NeuralNetwork(X.shape[1], 0, T.shape[1])\n",
    "nnet.train(X, T, 100)\n",
    "pTest = nnet.use(X)\n",
    "plt.plot(X, T, 'o-');\n",
    "plt.plot(X, pTest, 'o-');\n"
   ]
  },
  {
   "cell_type": "markdown",
   "metadata": {},
   "source": [
    "The hidden layer 0 is the best fit for this case  as the model is linear and the hidden layer 0 maps the input to output with better."
   ]
  },
  {
   "cell_type": "markdown",
   "metadata": {},
   "source": [
    "## Data for Regression Experiment\n",
    "\n",
    "From the UCI Machine Learning Repository, the file was downloaded Appliances energy prediction data.\n",
    "\n",
    "!wget http://archive.ics.uci.edu/ml/machine-learning-databases/00374/energydata_complete.csv\n",
    "\n",
    "The following section reads the data in numpy using loadtxt as instructed."
   ]
  },
  {
   "cell_type": "code",
   "execution_count": 49,
   "metadata": {},
   "outputs": [],
   "source": [
    "filename='energydata_complete.csv'\n",
    "fp = open(filename,'r')\n",
    "header = fp.readline()\n",
    "\n",
    "names = [h.strip('\"') for h in header.split(',')[1:-2]] # Ignore first item and the last two items.\n",
    "data = np.loadtxt(fp ,delimiter=',', usecols=1 + np.arange(26),dtype=str)\n",
    "data = np.chararray.strip(data,\"\\\" \")\n",
    "data = np.array(data).astype(float)\n",
    "Tenergy = data[:,:2]\n",
    "Xenergy = data[:,2:]\n",
    "Xnames = names[2:]\n",
    "Tnames = names[:2]"
   ]
  },
  {
   "cell_type": "code",
   "execution_count": 50,
   "metadata": {
    "scrolled": true
   },
   "outputs": [
    {
     "data": {
      "text/plain": [
       "['Appliances',\n",
       " 'lights',\n",
       " 'T1',\n",
       " 'RH_1',\n",
       " 'T2',\n",
       " 'RH_2',\n",
       " 'T3',\n",
       " 'RH_3',\n",
       " 'T4',\n",
       " 'RH_4',\n",
       " 'T5',\n",
       " 'RH_5',\n",
       " 'T6',\n",
       " 'RH_6',\n",
       " 'T7',\n",
       " 'RH_7',\n",
       " 'T8',\n",
       " 'RH_8',\n",
       " 'T9',\n",
       " 'RH_9',\n",
       " 'T_out',\n",
       " 'Press_mm_hg',\n",
       " 'RH_out',\n",
       " 'Windspeed',\n",
       " 'Visibility',\n",
       " 'Tdewpoint']"
      ]
     },
     "execution_count": 50,
     "metadata": {},
     "output_type": "execute_result"
    }
   ],
   "source": [
    "names"
   ]
  },
  {
   "cell_type": "code",
   "execution_count": 38,
   "metadata": {},
   "outputs": [
    {
     "data": {
      "text/plain": [
       "(19735, 26)"
      ]
     },
     "execution_count": 38,
     "metadata": {},
     "output_type": "execute_result"
    }
   ],
   "source": [
    "data.shape"
   ]
  },
  {
   "cell_type": "markdown",
   "metadata": {},
   "source": [
    "Use the first two columns, labelled `Appliances` and `lights` as the target variables, and the remaining 24 columns as the input features.  So"
   ]
  },
  {
   "cell_type": "code",
   "execution_count": 40,
   "metadata": {},
   "outputs": [
    {
     "data": {
      "text/plain": [
       "((19735, 24), (19735, 2))"
      ]
     },
     "execution_count": 40,
     "metadata": {},
     "output_type": "execute_result"
    }
   ],
   "source": [
    "Xenergy.shape, Tenergy.shape"
   ]
  },
  {
   "cell_type": "code",
   "execution_count": 41,
   "metadata": {},
   "outputs": [
    {
     "data": {
      "text/plain": [
       "['T1',\n",
       " 'RH_1',\n",
       " 'T2',\n",
       " 'RH_2',\n",
       " 'T3',\n",
       " 'RH_3',\n",
       " 'T4',\n",
       " 'RH_4',\n",
       " 'T5',\n",
       " 'RH_5',\n",
       " 'T6',\n",
       " 'RH_6',\n",
       " 'T7',\n",
       " 'RH_7',\n",
       " 'T8',\n",
       " 'RH_8',\n",
       " 'T9',\n",
       " 'RH_9',\n",
       " 'T_out',\n",
       " 'Press_mm_hg',\n",
       " 'RH_out',\n",
       " 'Windspeed',\n",
       " 'Visibility',\n",
       " 'Tdewpoint']"
      ]
     },
     "execution_count": 41,
     "metadata": {},
     "output_type": "execute_result"
    }
   ],
   "source": [
    "Xnames"
   ]
  },
  {
   "cell_type": "code",
   "execution_count": 42,
   "metadata": {},
   "outputs": [
    {
     "data": {
      "text/plain": [
       "['Appliances', 'lights']"
      ]
     },
     "execution_count": 42,
     "metadata": {},
     "output_type": "execute_result"
    }
   ],
   "source": [
    "Tnames"
   ]
  },
  {
   "cell_type": "markdown",
   "metadata": {},
   "source": [
    "The following section explores different hidden layers. Also the iteration test has been done to find the best iteration and then the best network was used to find the prediction."
   ]
  },
  {
   "cell_type": "code",
   "execution_count": null,
   "metadata": {},
   "outputs": [],
   "source": [
    "results = trainNNs(Xenergy, Tenergy, 0.8, [50,200,100,[50,50],50,20,[10,10,10],[15,15],0,[20,10]], 5, 1000)"
   ]
  },
  {
   "cell_type": "code",
   "execution_count": 68,
   "metadata": {},
   "outputs": [
    {
     "data": {
      "text/plain": [
       "[[50, 61.534378527022923, 63.988583283249014, 157.7544240951538],\n",
       " [200, 61.638386894110248, 62.459632485580983, 493.69926142692566],\n",
       " [100, 61.338361880391446, 62.422708792487185, 271.11178398132324],\n",
       " [[50, 50], 62.20828293951854, 62.544466797409918, 300.12203192710876],\n",
       " [50, 61.980513489897724, 62.934594251470891, 159.5940375328064],\n",
       " [20, 63.15767819334387, 64.102976243377185, 69.59270644187927],\n",
       " [[10, 10, 10], 63.16819626503591, 64.352497857832773, 94.9483916759491],\n",
       " [[15, 15], 61.97046683675417, 64.077516871107719, 102.3609893321991],\n",
       " [0, 67.276653175232553, 66.721153396975836, 1.746995210647583],\n",
       " [[20, 10], 61.474490436766544, 63.917506471160593, 80.82105016708374]]"
      ]
     },
     "execution_count": 68,
     "metadata": {},
     "output_type": "execute_result"
    }
   ],
   "source": [
    "summarize(results)"
   ]
  },
  {
   "cell_type": "code",
   "execution_count": 69,
   "metadata": {},
   "outputs": [
    {
     "data": {
      "text/plain": [
       "[100, 61.338361880391446, 62.422708792487185, 271.11178398132324]"
      ]
     },
     "execution_count": 69,
     "metadata": {},
     "output_type": "execute_result"
    }
   ],
   "source": [
    "bestNetwork(summarize(results))"
   ]
  },
  {
   "cell_type": "code",
   "execution_count": 71,
   "metadata": {},
   "outputs": [
    {
     "data": {
      "text/plain": [
       "(3947, 24)"
      ]
     },
     "execution_count": 71,
     "metadata": {},
     "output_type": "execute_result"
    }
   ],
   "source": [
    "Xtrain,Ttrain,Xtest,Ttest = ml.partition(Xenergy,Tenergy,(0.8,0.2),classification=False) \n",
    "Xtest.shape"
   ]
  },
  {
   "cell_type": "code",
   "execution_count": 72,
   "metadata": {},
   "outputs": [
    {
     "name": "stdout",
     "output_type": "stream",
     "text": [
      "0.578017651596\n",
      "0.47809918832\n",
      "0.442204468909\n",
      "0.418316332709\n",
      "0.411443298192\n"
     ]
    },
    {
     "data": {
      "image/png": "[encoded data removed]",
      "text/plain": [
       "<matplotlib.figure.Figure at 0x7f3e097497b8>"
      ]
     },
     "metadata": {},
     "output_type": "display_data"
    }
   ],
   "source": [
    "iteration = [100,500,1000,2000,2500]\n",
    "for i in iteration:\n",
    "    nnet = nn.NeuralNetwork(Xenergy.shape[1],100,Tenergy.shape[1])\n",
    "    nnet.train(Xtrain,Ttrain,i)\n",
    "    error = nnet.getErrorTrace()\n",
    "    print(error[-1])\n",
    "    plt.plot(error);"
   ]
  },
  {
   "cell_type": "markdown",
   "metadata": {},
   "source": [
    "Based on the error trace, the iteration is set to 2000 as increasing the number higer was similar. The last error value given by different iteration for 2000 and 2500 is similar so it was selected for the further testing."
   ]
  },
  {
   "cell_type": "code",
   "execution_count": 73,
   "metadata": {},
   "outputs": [
    {
     "name": "stdout",
     "output_type": "stream",
     "text": [
      "0.414109200078\n"
     ]
    },
    {
     "data": {
      "text/plain": [
       "[<matplotlib.lines.Line2D at 0x7f3e0b124cc0>]"
      ]
     },
     "execution_count": 73,
     "metadata": {},
     "output_type": "execute_result"
    },
    {
     "data": {
      "image/png": "[encoded data removed]",
      "text/plain": [
       "<matplotlib.figure.Figure at 0x7f3e097b5f28>"
      ]
     },
     "metadata": {},
     "output_type": "display_data"
    }
   ],
   "source": [
    "plt.figure(figsize=(15,15))\n",
    "nnet = nn.NeuralNetwork(Xenergy.shape[1],100,Tenergy.shape[1])\n",
    "nnet.train(Xtrain,Ttrain,2000)\n",
    "error = nnet.getErrorTrace()\n",
    "print(error[-1])\n",
    "plt.subplot(3,1,1)\n",
    "plt.plot(error);\n",
    "pTest = nnet.use(Xtest)\n",
    "plt.subplot(3,1,2)\n",
    "plt.xlabel(\"Actual Value (Ttest)\")\n",
    "plt.ylabel(\"Predicted Value (predTest)\")\n",
    "plt.title(\"Application\")\n",
    "plt.plot(Ttest[:,0],pTest[:,0],'ro')\n",
    "plt.subplot(3,1,3)\n",
    "plt.xlabel(\"Actual Value (Ttest)\")\n",
    "plt.ylabel(\"Predicted Value (predTest)\")\n",
    "plt.title(\"Light Prediction\")\n",
    "plt.plot(Ttest[:,1],pTest[:,1],'ro')"
   ]
  },
  {
   "cell_type": "markdown",
   "metadata": {},
   "source": [
    "Out of 10 different hidden layer structures, 100 was found to work best. Larger number of layer can cause the data to over-fitting because of which the test data doesn't perform better. \n",
    "\n",
    "The application and light value for test actual value and predicted value was plotted above. The actual value is on x-axis and the predicted value is on y-axis. The first figure shows the predicted value is on a 45 degree line which show that most of the predicted data is on the actual line. There is some scatter which shows the prediction has some error.\n",
    "\n",
    "Similarly, the predicted value for the light is discerete and the graph is discrete in nature as well.\n"
   ]
  },
  {
   "cell_type": "markdown",
   "metadata": {},
   "source": [
    "## Data for Classification Experiment\n",
    "\n",
    "From the UCI Machine Learning Repository, download the [Anuran Calls (MFCCs)](http://archive.ics.uci.edu/ml/datasets/Anuran+Calls+%28MFCCs%29) data. "
   ]
  },
  {
   "cell_type": "markdown",
   "metadata": {},
   "source": [
    "!wget 'http://archive.ics.uci.edu/ml/machine-learning-databases/00406/Anuran Calls (MFCCs).zip'\n",
    "!unzip Anuran*zip\n"
   ]
  },
  {
   "cell_type": "markdown",
   "metadata": {},
   "source": [
    "The data was read from the csv file as instructed."
   ]
  },
  {
   "cell_type": "code",
   "execution_count": 23,
   "metadata": {},
   "outputs": [],
   "source": [
    "import numpy as np\n",
    "filename = 'Frogs_MFCCs.csv'\n",
    "fp = open(filename,'r')\n",
    "header = [val.replace(\" \", \"\") for val in fp.readline().split(',')]\n",
    "data = np.loadtxt(fp ,delimiter=',', usecols=1 + np.arange(25),dtype=str)\n",
    "# Xnames = names[2:]\n",
    "# Tnames = names[:2]\n",
    "data[:3,:]\n",
    "Xanuran = data[:,:21]\n",
    "Xanuran = np.array(Xanuran).astype(float)\n",
    "Tanuran = data[:,23]\n",
    "actual = Tanuran.copy()\n",
    "class_map = dict(zip(np.unique(Tanuran),range(10))) # Create dictionary map for 10 unique values\n",
    "Tanuran = np.vectorize(class_map.get)(Tanuran).reshape(-1,1) # Replace the string with mapped integer."
   ]
  },
  {
   "cell_type": "code",
   "execution_count": 19,
   "metadata": {},
   "outputs": [
    {
     "data": {
      "text/plain": [
       "((7195, 21), (7195, 1))"
      ]
     },
     "execution_count": 19,
     "metadata": {},
     "output_type": "execute_result"
    }
   ],
   "source": [
    "Xanuran.shape, Tanuran.shape"
   ]
  },
  {
   "cell_type": "code",
   "execution_count": 20,
   "metadata": {},
   "outputs": [
    {
     "data": {
      "text/plain": [
       "array([[ 0.1529363 , -0.1055859 ,  0.20072191,  0.31720106,  0.26076385,\n",
       "         0.10094464, -0.1500626 , -0.17112763,  0.12467644,  0.18865415,\n",
       "        -0.07562172, -0.15643593,  0.08224512,  0.13575204, -0.02401665,\n",
       "        -0.10835111, -0.07762252, -0.0095678 ,  0.05768398,  0.11868014,\n",
       "         0.01403845],\n",
       "       [ 0.17153426, -0.09897474,  0.26842522,  0.33867186,  0.2683531 ,\n",
       "         0.06083509, -0.22247464, -0.20769267,  0.17088287,  0.27095828,\n",
       "        -0.09500394, -0.25434147,  0.02278623,  0.1633201 ,  0.01202228,\n",
       "        -0.09097401, -0.05650952, -0.03530336,  0.02013996,  0.08226299,\n",
       "         0.02905574]])"
      ]
     },
     "execution_count": 20,
     "metadata": {},
     "output_type": "execute_result"
    }
   ],
   "source": [
    "Xanuran[:2,:]"
   ]
  },
  {
   "cell_type": "code",
   "execution_count": 21,
   "metadata": {},
   "outputs": [
    {
     "data": {
      "text/plain": [
       "array([[0],\n",
       "       [0]])"
      ]
     },
     "execution_count": 21,
     "metadata": {},
     "output_type": "execute_result"
    }
   ],
   "source": [
    "Tanuran[:2]"
   ]
  },
  {
   "cell_type": "code",
   "execution_count": 42,
   "metadata": {},
   "outputs": [
    {
     "name": "stdout",
     "output_type": "stream",
     "text": [
      "672 samples in class 0\n",
      "3478 samples in class 1\n",
      "542 samples in class 2\n",
      "310 samples in class 3\n",
      "472 samples in class 4\n",
      "1121 samples in class 5\n",
      "270 samples in class 6\n",
      "114 samples in class 7\n",
      "68 samples in class 8\n",
      "148 samples in class 9\n"
     ]
    }
   ],
   "source": [
    "for i in range(10):\n",
    "    print('{} samples in class {}'.format(np.sum(Tanuran==i), i))"
   ]
  },
  {
   "cell_type": "code",
   "execution_count": 60,
   "metadata": {},
   "outputs": [],
   "source": [
    "results = trainNNs(Xanuran, Tanuran, 0.8, [0, 5, 20,30,50,[5,5],10,[10,10],1,80], 5, 100, classify=True)"
   ]
  },
  {
   "cell_type": "code",
   "execution_count": 61,
   "metadata": {},
   "outputs": [
    {
     "data": {
      "text/plain": [
       "[[0, 0.027241139680333547, 0.035163307852675497, 3.6413891315460205],\n",
       " [5, 0.040271021542738053, 0.053370396108408567, 7.172755479812622],\n",
       " [20, 0.0, 0.018346073662265438, 12.616100788116455],\n",
       " [30, 0.0, 0.013898540653231418, 15.573884725570679],\n",
       " [50, 0.0, 0.012230715774843692, 21.674614667892456],\n",
       " [[5, 5], 0.05788742182070885, 0.067407922168172332, 8.842625141143799],\n",
       " [10, 0.0064628214037526274, 0.029047949965253596, 9.104398488998413],\n",
       " [[10, 10], 0.0060111188325225658, 0.025712300208478079, 12.831489324569702],\n",
       " [1, 0.2924600416956219, 0.29325920778318276, 4.511789083480835],\n",
       " [80, 0.0, 0.010006949270326637, 30.981099128723145]]"
      ]
     },
     "execution_count": 61,
     "metadata": {},
     "output_type": "execute_result"
    }
   ],
   "source": [
    "summarize(results)"
   ]
  },
  {
   "cell_type": "code",
   "execution_count": 62,
   "metadata": {},
   "outputs": [
    {
     "data": {
      "text/plain": [
       "[80, 0.0, 0.010006949270326637, 30.981099128723145]"
      ]
     },
     "execution_count": 62,
     "metadata": {},
     "output_type": "execute_result"
    }
   ],
   "source": [
    "bestNetwork(summarize(results))"
   ]
  },
  {
   "cell_type": "code",
   "execution_count": 63,
   "metadata": {},
   "outputs": [
    {
     "name": "stdout",
     "output_type": "stream",
     "text": [
      "Confusion Matrix on Test Data.\n",
      "\n",
      "       0    1    2    3    4    5    6    7    8    9\n",
      "    ------------------------------------------------------------\n",
      " 0 |100.0  0    0    0    0    0    0    0    0    0     (134 / 134)\n",
      " 1 |  0  100.0  0    0    0    0    0    0    0    0     (696 / 696)\n",
      " 2 |  0    0  100.0  0    0    0    0    0    0    0     (108 / 108)\n",
      " 3 |  3.2  0    1.6 95.2  0    0    0    0    0    0     (62 / 62)\n",
      " 4 |  0    0    0    0   98.9  0    0    1.1  0    0     (94 / 94)\n",
      " 5 |  0    0.4  0    0    0   98.7  0.9  0    0    0     (224 / 224)\n",
      " 6 |  0    0    0    1.9  0    0   98.1  0    0    0     (54 / 54)\n",
      " 7 |  0    0    0    0    0    0    0  100.0  0    0     (23 / 23)\n",
      " 8 |  7.1  0    0    0    0    0    0    0   92.9  0     (14 / 14)\n",
      " 9 |  0    0    0    0    0    0    0    0    0  100.0   (30 / 30)\n",
      "\n",
      "Confusion Matrix on Train Data.\n",
      "       0    1    2    3    4    5    6    7    8    9\n",
      "    ------------------------------------------------------------\n",
      " 0 |100.0  0    0    0    0    0    0    0    0    0     (538 / 538)\n",
      " 1 |  0  100.0  0    0    0    0    0    0    0    0     (2782 / 2782)\n",
      " 2 |  0    0  100.0  0    0    0    0    0    0    0     (434 / 434)\n",
      " 3 |  0    0    0  100.0  0    0    0    0    0    0     (248 / 248)\n",
      " 4 |  0    0    0    0  100.0  0    0    0    0    0     (378 / 378)\n",
      " 5 |  0    0    0    0    0  100.0  0    0    0    0     (897 / 897)\n",
      " 6 |  0    0    0    0    0    0  100.0  0    0    0     (216 / 216)\n",
      " 7 |  0    0    0    0    0    0    0  100.0  0    0     (91 / 91)\n",
      " 8 |  0    0    0    0    0    0    0    0  100.0  0     (54 / 54)\n",
      " 9 |  0    0    0    0    0    0    0    0    0  100.0   (118 / 118)\n"
     ]
    },
    {
     "data": {
      "image/png": "[encoded data removed]",
      "text/plain": [
       "<matplotlib.figure.Figure at 0x7f3e0b449a58>"
      ]
     },
     "metadata": {},
     "output_type": "display_data"
    }
   ],
   "source": [
    "Xtrain,Ttrain,Xtest,Ttest = ml.partition(Xanuran,Tanuran,(0.8,0.2),classification=True) \n",
    "nnet = nn.NeuralNetworkClassifier(Xtrain.shape[1],80,len(np.unique(Tanuran)))\n",
    "nnet.train(Xtrain,Ttrain,nIterations=1000, verbose=False)\n",
    "Ptrain,Prtrain,_ = nnet.use(Xtrain,allOutputs=True)\n",
    "Ptest,Prtest,_ = nnet.use(Xtest,allOutputs=True)\n",
    "import matplotlib.pyplot as plt\n",
    "%matplotlib inline\n",
    "plt.plot(np.exp(-nnet.getErrorTrace()))\n",
    "plt.xlabel('Iteration')\n",
    "plt.ylabel('Data Likelihood');\n",
    "print(\"Confusion Matrix on Test Data.\\n\")\n",
    "cm = ml.confusionMatrix(Ttest,Ptest,np.unique(Ttest))\n",
    "print(\"\\nConfusion Matrix on Train Data.\")\n",
    "cm = ml.confusionMatrix(Ttrain,Ptrain,np.unique(Ttrain))"
   ]
  },
  {
   "cell_type": "markdown",
   "metadata": {},
   "source": [
    "Out of 10 hidden layer used, 80 gave the best result so it was used. Since the number of incorrect test is lower so higher values were not explored for hidden layer.Also the test data is classified better."
   ]
  },
  {
   "cell_type": "code",
   "execution_count": 65,
   "metadata": {},
   "outputs": [
    {
     "data": {
      "image/png": "[encoded data removed]",
      "text/plain": [
       "<matplotlib.figure.Figure at 0x7f3e09757630>"
      ]
     },
     "metadata": {},
     "output_type": "display_data"
    }
   ],
   "source": [
    "plt.subplot(2,1,1);\n",
    "plt.plot(Ttest, 'bo');\n",
    "plt.subplot(2,1,2);\n",
    "plt.plot(Ptest, 'go');"
   ]
  },
  {
   "cell_type": "markdown",
   "metadata": {},
   "source": [
    "The graph of the data predicted is better as seen in the figure above."
   ]
  },
  {
   "cell_type": "markdown",
   "metadata": {},
   "source": [
    "## Grading\n",
    "\n",
    "Download [A6grader.tar](http://www.cs.colostate.edu/~anderson/cs440/notebooks/A6grader.tar) and extract `A6grader.py` from it."
   ]
  },
  {
   "cell_type": "code",
   "execution_count": 74,
   "metadata": {
    "scrolled": false
   },
   "outputs": [
    {
     "name": "stdout",
     "output_type": "stream",
     "text": [
      "\n",
      "Testing summarize([[[1,1], [1.2, 1.3, 1.4], [2.2, 2.3, 2.4], 0.5], [[2,2,2], [4.4, 4.3, 4.2], [6.5, 6.4, 6.3], 0.6]])\n",
      "\n",
      "--- 10/10 points. Correctly returned [[[1, 1], 1.3, 2.3000000000000003, 0.5], [[2, 2, 2], 4.2999999999999998, 6.3999999999999995, 0.6]]\n",
      "\n",
      "Testing bestNetwork([[[1, 1], 1.3, 2.3, 0.5], [[2, 2, 2], 4.3, 1.3, 0.6]])\n",
      "\n",
      "--- 10/10 points. Correctly returned [[2, 2, 2], 4.3, 1.3, 0.6]\n",
      "\n",
      "X = np.random.uniform(-1, 1, (100, 3))\n",
      "T = np.hstack(((X**2 - 0.2*X**3).sum(axis=1,keepdims=True),\n",
      "               (np.sin(X)).sum(axis=1,keepdims=True)))\n",
      "result = trainNNs(X, T, 0.7, [0, 5, 10, [20, 20]], 10, 100, False)\n",
      "\n",
      "--- 20/20 points. Correct.\n",
      "\n",
      "Testing bestNetwork(summarize(result))\n",
      "\n",
      "--- 20/20 points. You correctly found that network [20, 20] is best.\n",
      "\n",
      "notebook Execution Grade is 60/60\n",
      "\n",
      "======================= The regression data set =======================\n",
      "\n",
      "--- _/5 points. Read the data in energydata_complete.csv into variables Xenergy and Tenergy.\n",
      "\n",
      "--- _/5 points. Train some networks by calling the NeuralNetwork constructor and train method and plot the error trace to help you decide now many iterations might be needed.\n",
      "\n",
      "--- _/5 points. Try at least 10 different hidden layer structures using trainNNs.\n",
      "\n",
      "--- _/5 points. Train another network with your best hidden layer structure on 0.8 of the data and test it on remaining 0.2 of the data. Plot the predicted and actual Appliances energy use, and the predicted and actual lights energy use, in two separate plots. Discuss what you see.\n",
      "\n",
      "======================= Classification data set =======================\n",
      "\n",
      "--- _/5 points. Read the data in Frogs_MFCCs.csv into variables Xanuran and Tanuran.\n",
      "\n",
      "--- _/5 points. Train some networks by calling the NeuralNetwork constructor and train method and plot the error trace to help you decide now many iterations might be needed.\n",
      "\n",
      "--- _/5 points. Try at least 10 different hidden layer structures using trainNNs.\n",
      "\n",
      "--- _/5 points. Train another network with your best hidden layer structure on 0.8 of the data and test it on remaining 0.2 of the data. Plot the predicted and actual Appliances energy use, and the predicted and actual lights energy use, in two separate plots. Discuss what you see.\n",
      "\n",
      "notebook Notebook Grade is __/40\n",
      "\n",
      "notebook FINAL GRADE is __/100\n"
     ]
    },
    {
     "data": {
      "text/plain": [
       "<matplotlib.figure.Figure at 0x7f3e0986b400>"
      ]
     },
     "metadata": {},
     "output_type": "display_data"
    }
   ],
   "source": [
    "%run -i \"A6grader.py\""
   ]
  },
  {
   "cell_type": "code",
   "execution_count": null,
   "metadata": {},
   "outputs": [],
   "source": []
  }
 ],
 "metadata": {
  "anaconda-cloud": {},
  "kernelspec": {
   "display_name": "Python 3",
   "language": "python",
   "name": "python3"
  },
  "language_info": {
   "codemirror_mode": {
    "name": "ipython",
    "version": 3
   },
   "file_extension": ".py",
   "mimetype": "text/x-python",
   "name": "python",
   "nbconvert_exporter": "python",
   "pygments_lexer": "ipython3",
   "version": "3.5.4"
  },
  "toc": {
   "nav_menu": {},
   "number_sections": true,
   "sideBar": true,
   "skip_h1_title": false,
   "toc_cell": false,
   "toc_position": {},
   "toc_section_display": "block",
   "toc_window_display": false
  }
 },
 "nbformat": 4,
 "nbformat_minor": 1
}
