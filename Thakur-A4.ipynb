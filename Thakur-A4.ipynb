{
 "cells": [
  {
   "cell_type": "markdown",
   "metadata": {},
   "source": [
    "# Assignment 4: Negamax with Alpha-Beta Pruning and Iterative Deepening"
   ]
  },
  {
   "cell_type": "markdown",
   "metadata": {},
   "source": [
    "Prashant Kumar Thakur"
   ]
  },
  {
   "cell_type": "markdown",
   "metadata": {},
   "source": [
    "# Table of Contents\n",
    "* [Assignment 4: Negamax with Alpha-Beta Pruning and Iterative Deepening](#Assignment-4:-Negamax-with-Alpha-Beta-Pruning-and-Iterative-Deepening)\n",
    "\t* [Initial Code](#Initial-Code)\n",
    "\t* [Add moves counter](#Add-moves-counter)\n",
    "\t* [negamaxIDS](#negamaxIDS)\n",
    "\t* [negamaxIDSab](#negamaxIDSab)\n",
    "\t* [Grading](#Grading)\n",
    "\t* [Extra Credit](#Extra-Credit)\n"
   ]
  },
  {
   "cell_type": "markdown",
   "metadata": {},
   "source": [
    "Reference: The code provided by the professor was used directly in this notebook.\n",
    "\n",
    "For this assignment, I have investigated the advantages of alpha-beta\n",
    "pruning applied to Tic-Tac-Toe.  Following are the steps:"
   ]
  },
  {
   "cell_type": "markdown",
   "metadata": {},
   "source": [
    "## Negamax implementation "
   ]
  },
  {
   "cell_type": "markdown",
   "metadata": {},
   "source": [
    "The negamax is an algorithm implemented to search for the move that would lead to a win. It is implemented in zero sum game where all the utility value (for the win and loose) sums up to zero. In the tic-tac-toe we assume the loss as -1, draw as 0 and win as 1 which basically is a zero-sum game so we can implement negamax to it. If the game is not a zero-sum game then we might have to consider the min-max algorithm. This function takes the depth and tries to search for the best move for the player which optimize the chance of his/her winning. Every call of this function returns the value which is negated (because the next recursion will be the opponent turn who would try to maximize the value in his turn) and then the function is recursively called untill the depth is exhusted or the best move for the player is found. "
   ]
  },
  {
   "cell_type": "code",
   "execution_count": 7,
   "metadata": {
    "collapsed": true
   },
   "outputs": [],
   "source": [
    "def negamax(game, depthLeft):\n",
    "    # If at terminal state or depth limit, return utility value and move None\n",
    "    if game.isOver() or depthLeft == 0:\n",
    "        return game.getUtility(), None # call to negamax knows the move\n",
    "    # Find best move and its value from current state\n",
    "    bestValue, bestMove = None, None\n",
    "    for move in game.getMoves():\n",
    "        # Apply a move to current state\n",
    "        game.makeMove(move)\n",
    "        # Use depth-first search to find eventual utility value and back it up.\n",
    "        #  Negate it because it will come back in context of next player\n",
    "        value, _ = negamax(game, depthLeft-1)\n",
    "        # Remove the move from current state, to prepare for trying a different move\n",
    "        game.unmakeMove(move)\n",
    "        if value is None:\n",
    "            continue\n",
    "        value = - value\n",
    "        if bestValue is None or value > bestValue:\n",
    "            # Value for this move is better than moves tried so far from this state.\n",
    "            bestValue, bestMove = value, move\n",
    "    return bestValue, bestMove"
   ]
  },
  {
   "cell_type": "markdown",
   "metadata": {},
   "source": [
    "## NegamaxIDS implementation\n",
    "\n",
    "The negamaxIDS calls the negamax module recursively till the given depth. The `depthLeft+1` is used so that the depth is reached. For instance: if depthLimit was set to 9 then the search should proceed to 9th level and not terminate on 8th level. Additionally, a method `getWinningValue()` was implemented to generalize the game. It simply returns the utility value assigned for the win. For this instance of tic-tac-toe the win state has been assigned `1` and this tells that if the move has the utility value of 1 that means it is a winning move. Whenever a winning move has been found the current score and move is returned. Similarly, if there is no winning moves then the best move that has been found so far is stored in `bestValue` and `bestMove`. If the depth is exhusted and the winning move is not found then the best move and corresponding value is returned by this function."
   ]
  },
  {
   "cell_type": "code",
   "execution_count": 8,
   "metadata": {
    "collapsed": true
   },
   "outputs": [],
   "source": [
    "def negamaxIDS(game, depthLeft):\n",
    "    # Initialize an empty best moves and score value.\n",
    "    bestValue, bestMove = None, None\n",
    "    for depth in range(depthLeft+1):\n",
    "        value,move = negamax(game,depth)\n",
    "        if game.getWinningValue() == value:\n",
    "            return value, move # Winning step found so break out of further search.\n",
    "        # Return the most possible value that can be achieved\n",
    "        if bestValue is None or bestValue < value:\n",
    "            bestValue = value\n",
    "            bestMove = move\n",
    "    return bestValue, bestMove"
   ]
  },
  {
   "cell_type": "markdown",
   "metadata": {},
   "source": [
    "## NegamaxAB implementation"
   ]
  },
  {
   "cell_type": "markdown",
   "metadata": {},
   "source": [
    "This module uses most of the fundamental functionality of negamax function defined above. The function takes the alpha-beta pruning into consideration which simply means the player is only going to consider those moves which would lead to a win else it would simply skip exploring those moves in the game tree. The initial alpha is set to -infinity because we want to get the maximum possible value to get to a win, on the other hand the beta value is set to infinity so that we can keep track of the value we are trying to beat. The value of alpha and beta gradually changes based on the move in the program. The recursive call for the function is the opponent tern so we have to swap the values of alpha and beta and negate them as the opponent would try to sort its chances of winning by maximizing its moves. The bestValue is keept ini track to make sure the search returns the possible moves if it's not a win. However, if the best move is found which means the value of bestValue calculated for the move is greater than the beta then we are sure that the step that the opponent took can be turned into a win with the move with the bestValue >= beta."
   ]
  },
  {
   "cell_type": "code",
   "execution_count": 9,
   "metadata": {
    "collapsed": true
   },
   "outputs": [],
   "source": [
    "def negamaxAB(game, depthLeft, alpha=-float('inf'), beta=float('inf')):\n",
    "    # If at terminal state or depth limit, return utility value and move None\n",
    "    if game.isOver() or depthLeft == 0:\n",
    "        return game.getUtility(), None\n",
    "    # Find best move and its value from current state\n",
    "    bestValue, bestMove = None, None\n",
    "    for move in game.getMoves():\n",
    "        # Apply a move to current state\n",
    "        game.makeMove(move)\n",
    "        # Use depth-first search to find eventual utility value and back it up.\n",
    "        #  Negate it because it will come back in context of next player\n",
    "        value, _ = negamaxAB(game, depthLeft-1, -beta, -alpha)\n",
    "        # Remove the move from current state, to prepare for trying a different move\n",
    "        game.unmakeMove(move)\n",
    "        if value is None:\n",
    "            continue\n",
    "        value = - value\n",
    "        if bestValue is None or value > bestValue:\n",
    "            bestValue = value\n",
    "            bestMove = move\n",
    "        alpha = max(bestValue, alpha)\n",
    "        if beta <= bestValue:\n",
    "            break\n",
    "    return bestValue, bestMove"
   ]
  },
  {
   "cell_type": "markdown",
   "metadata": {},
   "source": [
    "## negamaxIDSab implementation"
   ]
  },
  {
   "cell_type": "markdown",
   "metadata": {},
   "source": [
    "The function `negamaxIDSab` is simply a recursive implementation of negamaxAB."
   ]
  },
  {
   "cell_type": "code",
   "execution_count": 10,
   "metadata": {
    "collapsed": true
   },
   "outputs": [],
   "source": [
    "def negamaxIDSab(game, depthLeft):\n",
    "    bestValue, bestMove = None, None\n",
    "    for depth in range(depthLeft+1):\n",
    "        value,move = negamaxAB(game,depth)\n",
    "        if game.getWinningValue() == value:\n",
    "            return value, move # Winning step found so break out of further search.\n",
    "        # Return the most possible value that can be achieved\n",
    "        if bestValue is None or bestValue < value:\n",
    "            bestValue = value\n",
    "            bestMove = move\n",
    "    return bestValue, bestMove"
   ]
  },
  {
   "cell_type": "markdown",
   "metadata": {},
   "source": [
    "## EBF implementation"
   ]
  },
  {
   "cell_type": "markdown",
   "metadata": {},
   "source": [
    "The EBF function has been used directly from the Professor's solution which computes the effective branching factor for the given number of nodes and depth value."
   ]
  },
  {
   "cell_type": "code",
   "execution_count": 11,
   "metadata": {
    "collapsed": true
   },
   "outputs": [],
   "source": [
    "def ebf(nNodes, depth, precision=0.01):\n",
    "    if nNodes == 0:\n",
    "        return 0\n",
    "\n",
    "    def ebfRec(low, high):\n",
    "        mid = (low + high) * 0.5\n",
    "        if mid == 1:\n",
    "            estimate = 1 + depth\n",
    "        else:\n",
    "            estimate = (1 - mid**(depth + 1)) / (1 - mid)\n",
    "        if abs(estimate - nNodes) < precision:\n",
    "            return mid\n",
    "        if estimate > nNodes:\n",
    "            return ebfRec(low, mid)\n",
    "        else:\n",
    "            return ebfRec(mid, high)\n",
    "\n",
    "    return ebfRec(1, nNodes)"
   ]
  },
  {
   "cell_type": "markdown",
   "metadata": {},
   "source": [
    "## Tic-Tac-Toe Implementation\n",
    "\n",
    "The TTT class has been changed a bit to count the numbers of move made by different algorithms. Similarly, a function getWinningScore was also implemented to get the value for winning."
   ]
  },
  {
   "cell_type": "code",
   "execution_count": 12,
   "metadata": {
    "collapsed": true
   },
   "outputs": [],
   "source": [
    "class TTT(object):\n",
    "\n",
    "    def __init__(self):\n",
    "        self.board = [' ']*9\n",
    "        self.player = 'X'\n",
    "        if False:\n",
    "            self.board = [' ', ' ', 'O', 'X', 'O', 'O', ' ', ' ', ' ']\n",
    "            self.player = 'O'\n",
    "        self.playerLookAHead = self.player\n",
    "        self.movesExplored = 0\n",
    "\n",
    "    def locations(self, c):\n",
    "        return [i for i, mark in enumerate(self.board) if mark == c]\n",
    "\n",
    "    def getMoves(self):\n",
    "        moves = self.locations(' ')\n",
    "        return moves\n",
    "\n",
    "    def getUtility(self):\n",
    "        whereX = self.locations('X')\n",
    "        whereO = self.locations('O')\n",
    "        wins = [[0, 1, 2], [3, 4, 5], [6, 7, 8],\n",
    "                [0, 3, 6], [1, 4, 7], [2, 5, 8],\n",
    "                [0, 4, 8], [2, 4, 6]]\n",
    "        isXWon = any([all([wi in whereX for wi in w]) for w in wins])\n",
    "        isOWon = any([all([wi in whereO for wi in w]) for w in wins])\n",
    "        if isXWon:\n",
    "            return 1 if self.playerLookAHead is 'X' else -1\n",
    "        elif isOWon:\n",
    "            return 1 if self.playerLookAHead is 'O' else -1\n",
    "        elif ' ' not in self.board:\n",
    "            return 0\n",
    "        else:\n",
    "            return None  ########################################################## CHANGED FROM -0.1\n",
    "\n",
    "    def isOver(self):\n",
    "        return self.getUtility() is not None\n",
    "\n",
    "    def makeMove(self, move):\n",
    "        self.board[move] = self.playerLookAHead\n",
    "        self.playerLookAHead = 'X' if self.playerLookAHead == 'O' else 'O'\n",
    "        self.movesExplored += 1\n",
    "\n",
    "    def changePlayer(self):\n",
    "        self.player = 'X' if self.player == 'O' else 'O'\n",
    "        self.playerLookAHead = self.player\n",
    "\n",
    "    def unmakeMove(self, move):\n",
    "        self.board[move] = ' '\n",
    "        self.playerLookAHead = 'X' if self.playerLookAHead == 'O' else 'O'\n",
    "\n",
    "    def __str__(self):\n",
    "        s = '{}|{}|{}\\n-----\\n{}|{}|{}\\n-----\\n{}|{}|{}'.format(*self.board)\n",
    "        return s\n",
    "\n",
    "    def getNumberMovesExplored(self):\n",
    "        return self.movesExplored\n",
    "\n",
    "    def getWinningValue(self):\n",
    "        return 1"
   ]
  },
  {
   "cell_type": "markdown",
   "metadata": {},
   "source": [
    "Check that the following function `playGame` runs\n",
    "correctly. Notice that we are using *negamax* to find the best move for\n",
    "Player X, but Player O, the opponent, is using function *opponent*\n",
    "that follows the silly strategy of playing in the first open position."
   ]
  },
  {
   "cell_type": "code",
   "execution_count": 22,
   "metadata": {
    "collapsed": true
   },
   "outputs": [],
   "source": [
    "def opponent(board):\n",
    "    return board.index(' ')\n",
    "\n",
    "def play(game,opponent,depthLimit,func):\n",
    "    print(game)\n",
    "    while not game.isOver():\n",
    "        score,move = func(game,depthLimit)\n",
    "        if move == None :\n",
    "            print('move is None. Stopping.')\n",
    "            break\n",
    "        game.makeMove(move)\n",
    "        print('Player', game.player, 'to', move, 'for score' ,score)\n",
    "        print(game)\n",
    "        if not game.isOver():\n",
    "            game.changePlayer()\n",
    "            opponentMove = opponent(game.board)\n",
    "            game.makeMove(opponentMove)\n",
    "            print('Player', game.player, 'to', opponentMove)   ### FIXED ERROR IN THIS LINE!\n",
    "            print(game)\n",
    "            game.changePlayer()\n",
    "            \n",
    "import copy\n",
    "def playGame(game,opponent,depthLimit):\n",
    "    data = [] # [negamax, negamaxIDS, negamaxIDSab]\n",
    "    initialGame = copy.deepcopy(game)\n",
    "    print(\"negamax:\")\n",
    "    play(game,opponent,depthLimit,negamax)\n",
    "    data.append(['negamax',game.board.count('X'),game.getNumberMovesExplored(),game.board.count('X')+game.board.count('O')])\n",
    "    game = copy.deepcopy(initialGame)\n",
    "    print(\"negamaxIDS:\")\n",
    "    play(game,opponent,depthLimit,negamaxIDS)\n",
    "    data.append(['negamaxIDS',game.board.count('X'),game.getNumberMovesExplored(),game.board.count('X')+game.board.count('O')])\n",
    "    game = copy.deepcopy(initialGame)\n",
    "    print(\"negamaxIDSab:\")\n",
    "    play(game,opponent,depthLimit,negamaxIDSab)\n",
    "    data.append(['negamaxIDSab',game.board.count('X'),game.getNumberMovesExplored(),game.board.count('X')+game.board.count('O')])\n",
    "    \n",
    "    for i in data:\n",
    "        print(\"{0} made {1} moves. {2} moves explored for ebf({2}, {3}) of {4:.3f}\".format(i[0],i[1],i[2],i[3],ebf(i[2],i[3])))\n",
    "    \n"
   ]
  },
  {
   "cell_type": "code",
   "execution_count": 23,
   "metadata": {},
   "outputs": [
    {
     "name": "stdout",
     "output_type": "stream",
     "text": [
      "negamax:\n",
      " | | \n",
      "-----\n",
      " | | \n",
      "-----\n",
      " | | \n",
      "Player X to 0 for score 0\n",
      "X| | \n",
      "-----\n",
      " | | \n",
      "-----\n",
      " | | \n",
      "Player O to 1\n",
      "X|O| \n",
      "-----\n",
      " | | \n",
      "-----\n",
      " | | \n",
      "Player X to 3 for score 1\n",
      "X|O| \n",
      "-----\n",
      "X| | \n",
      "-----\n",
      " | | \n",
      "Player O to 2\n",
      "X|O|O\n",
      "-----\n",
      "X| | \n",
      "-----\n",
      " | | \n",
      "Player X to 4 for score 1\n",
      "X|O|O\n",
      "-----\n",
      "X|X| \n",
      "-----\n",
      " | | \n",
      "Player O to 5\n",
      "X|O|O\n",
      "-----\n",
      "X|X|O\n",
      "-----\n",
      " | | \n",
      "Player X to 6 for score 1\n",
      "X|O|O\n",
      "-----\n",
      "X|X|O\n",
      "-----\n",
      "X| | \n",
      "negamaxIDS:\n",
      " | | \n",
      "-----\n",
      " | | \n",
      "-----\n",
      " | | \n",
      "Player X to 0 for score 1\n",
      "X| | \n",
      "-----\n",
      " | | \n",
      "-----\n",
      " | | \n",
      "Player O to 1\n",
      "X|O| \n",
      "-----\n",
      " | | \n",
      "-----\n",
      " | | \n",
      "Player X to 3 for score 1\n",
      "X|O| \n",
      "-----\n",
      "X| | \n",
      "-----\n",
      " | | \n",
      "Player O to 2\n",
      "X|O|O\n",
      "-----\n",
      "X| | \n",
      "-----\n",
      " | | \n",
      "Player X to 6 for score 1\n",
      "X|O|O\n",
      "-----\n",
      "X| | \n",
      "-----\n",
      "X| | \n",
      "negamaxIDSab:\n",
      " | | \n",
      "-----\n",
      " | | \n",
      "-----\n",
      " | | \n",
      "Player X to 0 for score 1\n",
      "X| | \n",
      "-----\n",
      " | | \n",
      "-----\n",
      " | | \n",
      "Player O to 1\n",
      "X|O| \n",
      "-----\n",
      " | | \n",
      "-----\n",
      " | | \n",
      "Player X to 3 for score 1\n",
      "X|O| \n",
      "-----\n",
      "X| | \n",
      "-----\n",
      " | | \n",
      "Player O to 2\n",
      "X|O|O\n",
      "-----\n",
      "X| | \n",
      "-----\n",
      " | | \n",
      "Player X to 6 for score 1\n",
      "X|O|O\n",
      "-----\n",
      "X| | \n",
      "-----\n",
      "X| | \n",
      "negamax made 4 moves. 558334 moves explored for ebf(558334, 7) of 6.465\n",
      "negamaxIDS made 3 moves. 23338 moves explored for ebf(23338, 5) of 7.257\n",
      "negamaxIDSab made 3 moves. 6053 moves explored for ebf(6053, 5) of 5.482\n"
     ]
    }
   ],
   "source": [
    "game = TTT()\n",
    "playGame(game,opponent,10)"
   ]
  },
  {
   "cell_type": "markdown",
   "metadata": {},
   "source": [
    "## Grading"
   ]
  },
  {
   "cell_type": "markdown",
   "metadata": {},
   "source": [
    "As always, download and extract from [A4grader.tar](http://www.cs.colostate.edu/~anderson/cs440/notebooks/A4grader.tar)"
   ]
  },
  {
   "cell_type": "code",
   "execution_count": 25,
   "metadata": {},
   "outputs": [
    {
     "name": "stdout",
     "output_type": "stream",
     "text": [
      "\n",
      "Testing negamax starting from ['O', 'X', ' ', 'O', ' ', ' ', ' ', 'X', ' ']\n",
      "\n",
      "--- 10/10 points. negamax correctly returns value of 1\n",
      "\n",
      "--- 10/10 points. negamax correctly explored 124 states.\n",
      "\n",
      "Testing negamax starting from ['O', 'X', 'X', 'O', 'O', ' ', ' ', 'X', ' ']\n",
      "\n",
      "--- 10/10 points. negamax correctly returns value of -1 and move of 5\n",
      "\n",
      "Testing negamaxIDS with max depth of 5, starting from ['O', 'X', 'X', 'O', 'O', ' ', ' ', 'X', ' ']\n",
      "\n",
      "--- 10/10 points. negamaxIDS correctly returns value of -1 and move of 5\n",
      "\n",
      "Testing negamaxIDSab starting from ['O', 'X', 'X', 'O', 'O', ' ', ' ', 'X', ' ']\n",
      "\n",
      "--- 20/20 points. negamaxIDSab correctly returns value of -1 and move of 5\n",
      "\n",
      "Testing playGame with opponent that always plays in highest numbered position.\n",
      " | | \n",
      "-----\n",
      " | | \n",
      "-----\n",
      " | | \n",
      "Player X to 0 for score 0\n",
      "X| | \n",
      "-----\n",
      " | | \n",
      "-----\n",
      " | | \n",
      "Player O to 8\n",
      "X| | \n",
      "-----\n",
      " | | \n",
      "-----\n",
      " | |O\n",
      "Player X to 2 for score 1\n",
      "X| |X\n",
      "-----\n",
      " | | \n",
      "-----\n",
      " | |O\n",
      "Player O to 7\n",
      "X| |X\n",
      "-----\n",
      " | | \n",
      "-----\n",
      " |O|O\n",
      "Player X to 1 for score 1\n",
      "X|X|X\n",
      "-----\n",
      " | | \n",
      "-----\n",
      " |O|O\n",
      "\n",
      "--- 10/10 points. playGame correctly wins by filling top row with Xs.\n",
      "\n",
      "notebook Execution Grade is 70/70\n",
      "\n",
      " Remaining 30 points will be based on the output of your playGames function.\n",
      "\n",
      "notebook FINAL GRADE is __/100\n"
     ]
    }
   ],
   "source": [
    "%run -i A4grader.py"
   ]
  }
 ],
 "metadata": {
  "kernelspec": {
   "display_name": "Python 3",
   "language": "python",
   "name": "python3"
  },
  "language_info": {
   "codemirror_mode": {
    "name": "ipython",
    "version": 3
   },
   "file_extension": ".py",
   "mimetype": "text/x-python",
   "name": "python",
   "nbconvert_exporter": "python",
   "pygments_lexer": "ipython3",
   "version": "3.5.2"
  }
 },
 "nbformat": 4,
 "nbformat_minor": 2
}
