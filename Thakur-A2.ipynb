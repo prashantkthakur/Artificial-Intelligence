{
 "cells": [
  {
   "cell_type": "markdown",
   "metadata": {},
   "source": [
    "# Assignment 2: Iterative-Deepening Search"
   ]
  },
  {
   "cell_type": "markdown",
   "metadata": {},
   "source": [
    "Prashant Kumar Thakur"
   ]
  },
  {
   "cell_type": "markdown",
   "metadata": {},
   "source": [
    "## Overview"
   ]
  },
  {
   "cell_type": "markdown",
   "metadata": {},
   "source": [
    "I have implemented the iterative-deepening search algorithm as discussed in our Week 2 lecture notes and as shown in figures 3.17 and 3.18 in our text book. It has been applied to the 8-puzzle and a second puzzle \"Water-Jug Problem\"."
   ]
  },
  {
   "cell_type": "markdown",
   "metadata": {},
   "source": [
    "## Required Code"
   ]
  },
  {
   "cell_type": "markdown",
   "metadata": {},
   "source": [
    "In this jupyter notebook, implement the following functions:\n",
    "\n",
    "  * `iterativeDeepeningSearch(startState, actionsF, takeActionF, goalState, goalTestF, maxDepth)`\n",
    "  * `depthLimitedSearch(startState, actionsF, takeActionF, goalState, goalTestF, depthLimit)`\n",
    "  \n",
    "`depthLimitedSearch` is called by `iterativeDeepeningSearch` with `depthLimit`s of $0, 1, \\ldots, $ `maxDepth`. Both must return either the solution path as a list of states, or the strings `cutoff` or `failure`.  `failure` signifies that all states were searched and the goal was not found. \n",
    "\n",
    "Each receives the arguments\n",
    "\n",
    "  * the starting state, \n",
    "  * a function `actionsF` that is given a state and returns a list of valid actions from that state,\n",
    "  * a function `takeActionF` that is given a state and an action and returns the new state that results from applying the action to the state,\n",
    "  * the goal state,\n",
    "  * a function `goalTestF` that is given a state and the goal state and returns `True` if the state satisfies the goal, and\n",
    "  * either a `depthLimit` for `depthLimitedSearch`, or `maxDepth` for `iterativeDeepeningSearch`."
   ]
  },
  {
   "cell_type": "markdown",
   "metadata": {},
   "source": [
    "Use your solution to solve the 8-puzzle.\n",
    "Implement the state of the puzzle as a list of integers. 0 represents the empty position. \n",
    "\n",
    "Required functions for the 8-puzzle are the following.\n",
    "\n",
    "* `findBlank_8p(state)`: return the row and column index for the location of the blank (the 0 value).,\n",
    "* `actionsF_8p(state)`: returns a list of up to four valid actions that can be applied in state. Return them in the order left, right, up, down, though only if each one is a valid action.,\n",
    "* `takeActionF_8p(state, action)`: return the state that results from applying action in state.,\n",
    "* `printPath_8p(startState, goalState, path)`: print a solution path in a readable form."
   ]
  },
  {
   "cell_type": "markdown",
   "metadata": {},
   "source": [
    "The functions depthLimitedSearch is implemented which takes five arguments. Initially the startState is matched to the goalState to ensure if the result has been achieved. The function provided for the assignment were not modified much. The only modification was to append the states that the search transverses to achieve the path. The depthLimitedSearch returns the empty path when the startState and goalState matches to remove duplicates in the search path when we do a iterative deepening search. If there are multiple solution to a state, the depth limited search tends to find the one that it encounters which is not necessarily the optimal path as it explores the deepest location of one child and then moves to another. Because of which if it find a solution path at level-2 (say) it won't bother to check if there exists a solution at level-1 at another node. This has been clarified at the bottom of the notebook with an explanation. So, depth limited search helps to remove the infinite loop problem thought it is not the best method to used based on the nature of the graph.\n",
    "\n",
    "* `\"generateNpArray\"` function is implemented to change the one-dimentional array into 2 dimentional array and viceversa. This approach is done to make change to this function to create facilitate different length puzzle. Like- if we need to have 4X4 puzzle then all we need to do is switch the parameters in this function to generate 4X4 2-d array and 16 element in 1-d array. The parameter it takes is state and list boolean. By default the list boolean is fixed to False so that the state passed is changed from 1-d to 2-d array. When we have to return the result state, the 2-d array is converted to 1-d and for that particular conversion list=True is used. For instance, the function \"takeActionF_8p\" initially computes the 2-d array by passing only state (1-d array) however at the end of the computation, it returns 1-d array and the conversion from 2-d array is done using \"generaateNpArray\" function by passing list=True as second parameter.\n",
    "\n",
    "* `\"printState_8p\"` is another function used to print the states in a matrix format. The function first generates the 2-d array using the numpy module and then the values in the array is iterated to get each row and a string is computed by removing \"[\",\"]\" from the list and replacing a blank space for \"0\". For instance,\n",
    "If we input [1, 0, 3, 4, 2, 5, 6, 7, 8] as the state to this function, it first converst this array into the following array and then a required format is computed dumping brackets and replacing 0 with a blank space.\n",
    "    \n",
    "    Internal conversion:\n",
    "       [[1 0 3]\n",
    "         [4 2 5]\n",
    "         [6 7 8]]\n",
    "    Output:\n",
    "        1   3\n",
    "        4 2 5\n",
    "        6 7 8"
   ]
  },
  {
   "cell_type": "markdown",
   "metadata": {},
   "source": [
    "* `findBlank_8p` function is used to find the position of 0 in the array. This function basically uses the numpy function to get the index of the element which matches the argument passed. The method `argwhere` is used to find the index which returns a list of matching position. Finally, the index value is returned as a tuple. So for a given state [1, 0, 3, 4, 2, 5, 6, 7, 8], it is first converted into 2-d array and then the index is computed and the value is returned which in this case is (0, 1).\n",
    "\n",
    "* `actionsF_8p` function is used to generate the list of action that could be applied to a given state. For instance, if the blank is present in the array as shown below then the blank can be moved towards right, left, down.Similarly, if the blank was present in the middle of the array i.e. in place of 2 (example shown above) then the state could have 4 successors with blank that can move left, right, up, down. This function checks for the position of the blank (or zero) in the array and compute the strategies about where it can move. Based on the allowed movements the list is prepared and returned from the function. So if we consider the above example then the list returned is [\"left\", \"right\", \"down\"] as these are the only allowed states.\n",
    "\n",
    "        1   3\n",
    "        4 2 5\n",
    "        6 7 8\n",
    "\n",
    "* `takeActionF_8p` function simply computes the child state provided the state and the action applied to the state. The 1-d array is first changed into 2-d array so that the swapping of the element becomes easy. Finally, based on the action the 2-d state is computed after swapping the values. The final result returned from the function is the 1-d array for which the function `generateNpArray` is used by passing list=True.\n"
   ]
  },
  {
   "cell_type": "code",
   "execution_count": 51,
   "metadata": {
    "collapsed": true
   },
   "outputs": [],
   "source": [
    "import numpy as np\n",
    "def iterativeDeepeningSearch(startState, goalState, actionsF, takeActionF, maxDepth):\n",
    "    for depth in range(maxDepth):\n",
    "        result = depthLimitedSearch(startState, goalState, actionsF, takeActionF, depth)\n",
    "        if result is 'failure':\n",
    "            return 'failure'\n",
    "        if result is not 'cutoff':\n",
    "            #Add startState to front of solution path, in result, returned by depthLimitedSearch\n",
    "            result.insert(0,startState)\n",
    "            return result\n",
    "    return 'cutoff'\n",
    "\n",
    "\n",
    "def depthLimitedSearch(state, goalState, actionsF, takeActionF, depthLimit):\n",
    "    if state == goalState:\n",
    "        # Return the goal path is already returned from the result so return empty list to remove duplication\n",
    "        return []\n",
    "\n",
    "    if depthLimit is 0:\n",
    "        # signal that the depth limit was reached\n",
    "        return 'cutoff'\n",
    "    cutoffOccurred = False\n",
    "    for action in actionsF(state):\n",
    "        childState = takeActionF(state, action)\n",
    "        result = depthLimitedSearch(childState, goalState, actionsF, takeActionF, depthLimit-1)\n",
    "        if result is 'cutoff':\n",
    "            cutoffOccurred = True\n",
    "        elif result is not 'failure':\n",
    "            #Add childState to front of partial solution path, in result, returned by depthLimitedSearch\n",
    "            result.insert(0,childState)\n",
    "            return result\n",
    "    if cutoffOccurred:\n",
    "        return 'cutoff'\n",
    "    else:\n",
    "        return 'failure'\n",
    "\n",
    "\n",
    "def generateNpArray(state,list=False):\n",
    "    #Create a general function that can be used to format the arrays for input and output.\n",
    "    # Return the array in 1-D with 9 elements\n",
    "    if list:\n",
    "        return state.reshape(1, 9)[0].tolist()\n",
    "    # Return the array in 2-D with 3 rows, 3 column\n",
    "    else:\n",
    "        return np.array(state).reshape(3, 3)\n",
    "\n",
    "\n",
    "def printState_8p(state):\n",
    "    np_array = generateNpArray(state)\n",
    "    print('\\n'.join(str(a).strip('[]').replace('0', ' ') for a in np_array))\n",
    "\n",
    "\n",
    "def findBlank_8p(state):\n",
    "    np_array = generateNpArray(state)\n",
    "    idx = np.argwhere(np_array == 0)\n",
    "    return tuple(idx[0])\n",
    "\n",
    "\n",
    "def actionsF_8p(state):\n",
    "    position = findBlank_8p(state)\n",
    "    action = ['left', 'right', 'up', 'down']\n",
    "    if position[0] == 0:\n",
    "        action.remove('up')\n",
    "    if position[0] == 2:\n",
    "        action.remove('down')\n",
    "    if position[1] == 0:\n",
    "        action.remove('left')\n",
    "    if position[1] == 2:\n",
    "        action.remove('right')\n",
    "    return action\n",
    "\n",
    "\n",
    "def takeActionF_8p(state, action):\n",
    "    np_array = generateNpArray(state)\n",
    "    position = findBlank_8p(state)\n",
    "    try:\n",
    "        if action == 'left':\n",
    "            np_array[position], np_array[(position[0], position[1]-1)] = np_array[(position[0],position[1]-1)], np_array[position]\n",
    "        if action == 'right':\n",
    "            np_array[position], np_array[(position[0], position[1]+1)] = np_array[(position[0],position[1]+1)], np_array[position]\n",
    "        # swap the value with the top row whose row is 1 unit less.\n",
    "        if action == 'up':\n",
    "            np_array[position], np_array[(position[0]-1, position[1])] = np_array[(position[0]-1,position[1])], np_array[position]\n",
    "\n",
    "        if action == 'down':\n",
    "            np_array[position], np_array[(position[0]+1, position[1])] = np_array[(position[0]+1,position[1])], np_array[position]\n",
    "    except IndexError:\n",
    "        print(\"Wrong Action applied.\\n Action ={} on .. \\n{}\".format(action,printState_8p(state)))\n",
    "    return generateNpArray(np_array,list=True)\n",
    "\n",
    "\n",
    "def printPath_8p(startState, goalState, path):\n",
    "    print(\"Path from\\n{} \\n to {} \\n is {} nodes long.\\n\".format(startState,goalState,len(path)))\n",
    "    for item in path:\n",
    "        print(\"\\n\")\n",
    "        printState_8p(item)\n"
   ]
  },
  {
   "cell_type": "markdown",
   "metadata": {},
   "source": [
    "Here are some example results."
   ]
  },
  {
   "cell_type": "code",
   "execution_count": 52,
   "metadata": {
    "collapsed": true
   },
   "outputs": [],
   "source": [
    "startState = [1, 0, 3, 4, 2, 5, 6, 7, 8]"
   ]
  },
  {
   "cell_type": "code",
   "execution_count": 53,
   "metadata": {},
   "outputs": [
    {
     "name": "stdout",
     "output_type": "stream",
     "text": [
      "1   3\n",
      "4 2 5\n",
      "6 7 8\n"
     ]
    }
   ],
   "source": [
    "printState_8p(startState)  "
   ]
  },
  {
   "cell_type": "code",
   "execution_count": 54,
   "metadata": {},
   "outputs": [
    {
     "data": {
      "text/plain": [
       "(0, 1)"
      ]
     },
     "execution_count": 54,
     "metadata": {},
     "output_type": "execute_result"
    }
   ],
   "source": [
    "findBlank_8p(startState)"
   ]
  },
  {
   "cell_type": "code",
   "execution_count": 55,
   "metadata": {},
   "outputs": [
    {
     "data": {
      "text/plain": [
       "['left', 'right', 'down']"
      ]
     },
     "execution_count": 55,
     "metadata": {},
     "output_type": "execute_result"
    }
   ],
   "source": [
    "actionsF_8p(startState)"
   ]
  },
  {
   "cell_type": "code",
   "execution_count": 56,
   "metadata": {},
   "outputs": [
    {
     "data": {
      "text/plain": [
       "[1, 2, 3, 4, 0, 5, 6, 7, 8]"
      ]
     },
     "execution_count": 56,
     "metadata": {},
     "output_type": "execute_result"
    }
   ],
   "source": [
    "takeActionF_8p(startState, 'down')"
   ]
  },
  {
   "cell_type": "code",
   "execution_count": 57,
   "metadata": {},
   "outputs": [
    {
     "name": "stdout",
     "output_type": "stream",
     "text": [
      "1 2 3\n",
      "4   5\n",
      "6 7 8\n"
     ]
    }
   ],
   "source": [
    "printState_8p(takeActionF_8p(startState, 'down'))"
   ]
  },
  {
   "cell_type": "code",
   "execution_count": 58,
   "metadata": {
    "collapsed": true
   },
   "outputs": [],
   "source": [
    "goalState = takeActionF_8p(startState, 'down')"
   ]
  },
  {
   "cell_type": "code",
   "execution_count": 59,
   "metadata": {
    "collapsed": true
   },
   "outputs": [],
   "source": [
    "newState = takeActionF_8p(startState, 'down')"
   ]
  },
  {
   "cell_type": "code",
   "execution_count": 60,
   "metadata": {},
   "outputs": [
    {
     "data": {
      "text/plain": [
       "True"
      ]
     },
     "execution_count": 60,
     "metadata": {},
     "output_type": "execute_result"
    }
   ],
   "source": [
    "newState == goalState"
   ]
  },
  {
   "cell_type": "code",
   "execution_count": 61,
   "metadata": {},
   "outputs": [
    {
     "data": {
      "text/plain": [
       "[1, 0, 3, 4, 2, 5, 6, 7, 8]"
      ]
     },
     "execution_count": 61,
     "metadata": {},
     "output_type": "execute_result"
    }
   ],
   "source": [
    "startState"
   ]
  },
  {
   "cell_type": "code",
   "execution_count": 62,
   "metadata": {
    "scrolled": true
   },
   "outputs": [
    {
     "data": {
      "text/plain": [
       "[[0, 1, 3, 4, 2, 5, 6, 7, 8],\n",
       " [1, 0, 3, 4, 2, 5, 6, 7, 8],\n",
       " [1, 2, 3, 4, 0, 5, 6, 7, 8]]"
      ]
     },
     "execution_count": 62,
     "metadata": {},
     "output_type": "execute_result"
    }
   ],
   "source": [
    "path = depthLimitedSearch(startState, goalState, actionsF_8p, takeActionF_8p, 3)\n",
    "path"
   ]
  },
  {
   "cell_type": "code",
   "execution_count": 63,
   "metadata": {},
   "outputs": [
    {
     "data": {
      "text/plain": [
       "[[0, 1, 3, 4, 2, 5, 6, 7, 8],\n",
       " [1, 0, 3, 4, 2, 5, 6, 7, 8],\n",
       " [0, 1, 3, 4, 2, 5, 6, 7, 8],\n",
       " [1, 0, 3, 4, 2, 5, 6, 7, 8],\n",
       " [1, 2, 3, 4, 0, 5, 6, 7, 8]]"
      ]
     },
     "execution_count": 63,
     "metadata": {},
     "output_type": "execute_result"
    }
   ],
   "source": [
    "path = depthLimitedSearch(startState, goalState, actionsF_8p, takeActionF_8p, 5)\n",
    "path"
   ]
  },
  {
   "cell_type": "markdown",
   "metadata": {},
   "source": [
    "Notice that `depthLimitedSearch` result is missing the start state.  This is inserted by `iterativeDeepeningSearch`.\n",
    "\n",
    "But, when we try `iterativeDeepeningSearch` to do the same search, it finds a shorter path!"
   ]
  },
  {
   "cell_type": "code",
   "execution_count": 64,
   "metadata": {
    "scrolled": true
   },
   "outputs": [
    {
     "data": {
      "text/plain": [
       "[[1, 0, 3, 4, 2, 5, 6, 7, 8], [1, 2, 3, 4, 0, 5, 6, 7, 8]]"
      ]
     },
     "execution_count": 64,
     "metadata": {},
     "output_type": "execute_result"
    }
   ],
   "source": [
    "path = iterativeDeepeningSearch(startState, goalState, actionsF_8p, takeActionF_8p, 3)\n",
    "path"
   ]
  },
  {
   "cell_type": "markdown",
   "metadata": {},
   "source": [
    "# Description of DLS and IDLS behavior.\n",
    "\n",
    "We can see that when we do an iterative deepening search with a start state [1, 0, 3, 4, 2, 5, 6, 7, 8] to achieve a goal state [1, 2, 3, 4, 0, 5, 6, 7, 8], we reach the goal state with an optimal solution. But this is not true for the depth limited search. The DLS seems to find the longest path based on the depthlimite passed to it. In the above example, the depth limit was passed to be 3 so the DLS tries to find all the child to the leftmost node and try to find if it gets to a solution. Since, the action are strictly arranged as [\"left\",\"right\",\"up\",\"down\"] the DLS first goes through all the leftmost child and finally gets a solution at the third level with different path. In order to clarify on this theme, lets change the depth limit to the function. For instance, we change the depth limit to 3 and the response we get is [[0, 1, 3, 4, 2, 5, 6, 7, 8],[1, 0, 3, 4, 2, 5, 6, 7, 8], [1, 2, 3, 4, 0, 5, 6, 7, 8]].  Again with the same startState and goalState with depth limit of 5, we get a different path as a solution.  [[0, 1, 3, 4, 2, 5, 6, 7, 8],[1, 0, 3, 4, 2, 5, 6, 7, 8], [0, 1, 3, 4, 2, 5, 6, 7, 8], [1, 0, 3, 4, 2, 5, 6, 7, 8], [1, 2, 3, 4, 0, 5, 6, 7, 8]].\n",
    "\n",
    "This clearly indicates that the depth limited search is trying to find the deepest goal state which could be found at the leftmost part of the graph. \n",
    "\n",
    "However, the iterative deepening search tries to find the optimal solution because we gradually increase the depth of the graph and see if we can achieve the goal state at the given depth level. Since, there exists a path at level 1 which is matched first regardless of some higher maximum depth allowed. Because of this nature, every node at a given level is checked first and then the lower nodes are explored. Therefore, it finds the optimal path to a given goal state where depth limited search couldn't reach.\n",
    "\n",
    "To get the similar result with the DLS, we have to try to use the minimum depth limit. For the above example if we set the depth limit to 2, then we get the same path as found by iterative deepening search. Hence, iterative deepening search is better over depth limited search. "
   ]
  },
  {
   "cell_type": "code",
   "execution_count": 65,
   "metadata": {},
   "outputs": [
    {
     "data": {
      "text/plain": [
       "'cutoff'"
      ]
     },
     "execution_count": 65,
     "metadata": {},
     "output_type": "execute_result"
    }
   ],
   "source": [
    "startState = [4, 7, 2, 1, 6, 5, 0, 3, 8]\n",
    "path = iterativeDeepeningSearch(startState, goalState, actionsF_8p, takeActionF_8p, 3)\n",
    "path"
   ]
  },
  {
   "cell_type": "code",
   "execution_count": 66,
   "metadata": {},
   "outputs": [
    {
     "data": {
      "text/plain": [
       "'cutoff'"
      ]
     },
     "execution_count": 66,
     "metadata": {},
     "output_type": "execute_result"
    }
   ],
   "source": [
    "startState = [4, 7, 2, 1, 6, 5, 0, 3, 8]\n",
    "path = iterativeDeepeningSearch(startState, goalState, actionsF_8p, takeActionF_8p, 5)\n",
    "path"
   ]
  },
  {
   "cell_type": "markdown",
   "metadata": {},
   "source": [
    "Humm...maybe we can't reach the goal state from this state.  We need a way to randomly generate a valid start state."
   ]
  },
  {
   "cell_type": "code",
   "execution_count": 72,
   "metadata": {
    "collapsed": true
   },
   "outputs": [],
   "source": [
    "import random"
   ]
  },
  {
   "cell_type": "code",
   "execution_count": 74,
   "metadata": {},
   "outputs": [
    {
     "data": {
      "text/plain": [
       "'right'"
      ]
     },
     "execution_count": 74,
     "metadata": {},
     "output_type": "execute_result"
    }
   ],
   "source": [
    "random.choice(['left', 'right'])"
   ]
  },
  {
   "cell_type": "code",
   "execution_count": 75,
   "metadata": {
    "collapsed": true
   },
   "outputs": [],
   "source": [
    "def randomStartState(goalState, actionsF, takeActionF, nSteps):\n",
    "    state = goalState\n",
    "    for i in range(nSteps):\n",
    "        state = takeActionF(state, random.choice(actionsF(state)))\n",
    "    return state"
   ]
  },
  {
   "cell_type": "code",
   "execution_count": 76,
   "metadata": {},
   "outputs": [
    {
     "data": {
      "text/plain": [
       "[4, 1, 3, 2, 5, 8, 6, 7, 0]"
      ]
     },
     "execution_count": 76,
     "metadata": {},
     "output_type": "execute_result"
    }
   ],
   "source": [
    "startState = randomStartState(goalState, actionsF_8p, takeActionF_8p, 10)\n",
    "startState"
   ]
  },
  {
   "cell_type": "code",
   "execution_count": 77,
   "metadata": {},
   "outputs": [
    {
     "data": {
      "text/plain": [
       "[[4, 1, 3, 2, 5, 8, 6, 7, 0],\n",
       " [4, 1, 3, 2, 5, 0, 6, 7, 8],\n",
       " [4, 1, 3, 2, 0, 5, 6, 7, 8],\n",
       " [4, 1, 3, 0, 2, 5, 6, 7, 8],\n",
       " [0, 1, 3, 4, 2, 5, 6, 7, 8],\n",
       " [1, 0, 3, 4, 2, 5, 6, 7, 8],\n",
       " [1, 2, 3, 4, 0, 5, 6, 7, 8]]"
      ]
     },
     "execution_count": 77,
     "metadata": {},
     "output_type": "execute_result"
    }
   ],
   "source": [
    "path = iterativeDeepeningSearch(startState, goalState, actionsF_8p, takeActionF_8p, 20)\n",
    "path"
   ]
  },
  {
   "cell_type": "markdown",
   "metadata": {},
   "source": [
    "Let's print out the state sequence in a readable form."
   ]
  },
  {
   "cell_type": "code",
   "execution_count": 78,
   "metadata": {},
   "outputs": [
    {
     "name": "stdout",
     "output_type": "stream",
     "text": [
      "4 1 3\n",
      "2 5 8\n",
      "6 7  \n",
      "\n",
      "4 1 3\n",
      "2 5  \n",
      "6 7 8\n",
      "\n",
      "4 1 3\n",
      "2   5\n",
      "6 7 8\n",
      "\n",
      "4 1 3\n",
      "  2 5\n",
      "6 7 8\n",
      "\n",
      "  1 3\n",
      "4 2 5\n",
      "6 7 8\n",
      "\n",
      "1   3\n",
      "4 2 5\n",
      "6 7 8\n",
      "\n",
      "1 2 3\n",
      "4   5\n",
      "6 7 8\n",
      "\n"
     ]
    }
   ],
   "source": [
    "for p in path:\n",
    "    printState_8p(p)\n",
    "    print()"
   ]
  },
  {
   "cell_type": "markdown",
   "metadata": {},
   "source": [
    "Here is one way to format the search problem and solution in a readable form."
   ]
  },
  {
   "cell_type": "code",
   "execution_count": 79,
   "metadata": {},
   "outputs": [
    {
     "name": "stdout",
     "output_type": "stream",
     "text": [
      "Path from\n",
      "[4, 1, 3, 2, 5, 8, 6, 7, 0] \n",
      " to [1, 2, 3, 4, 0, 5, 6, 7, 8] \n",
      " is 7 nodes long.\n",
      "\n",
      "\n",
      "\n",
      "4 1 3\n",
      "2 5 8\n",
      "6 7  \n",
      "\n",
      "\n",
      "4 1 3\n",
      "2 5  \n",
      "6 7 8\n",
      "\n",
      "\n",
      "4 1 3\n",
      "2   5\n",
      "6 7 8\n",
      "\n",
      "\n",
      "4 1 3\n",
      "  2 5\n",
      "6 7 8\n",
      "\n",
      "\n",
      "  1 3\n",
      "4 2 5\n",
      "6 7 8\n",
      "\n",
      "\n",
      "1   3\n",
      "4 2 5\n",
      "6 7 8\n",
      "\n",
      "\n",
      "1 2 3\n",
      "4   5\n",
      "6 7 8\n"
     ]
    }
   ],
   "source": [
    "printPath_8p(startState, goalState, path)"
   ]
  },
  {
   "cell_type": "markdown",
   "metadata": {},
   "source": [
    "Download [A2grader.tar](A2grader.tar) and extract A2grader.py from it."
   ]
  },
  {
   "cell_type": "code",
   "execution_count": 80,
   "metadata": {},
   "outputs": [
    {
     "name": "stdout",
     "output_type": "stream",
     "text": [
      "\n",
      "Searching this graph:\n",
      " {'a': ['b', 'z', 'd'], 'b': ['a'], 'e': ['z'], 'd': ['y'], 'y': ['z']}\n",
      "\n",
      "Looking for path from a to y with max depth of 1.\n",
      " 5/ 5 points. Your search correctly returned cutoff\n",
      "\n",
      "Looking for path from a to y with max depth of 5.\n",
      "10/10 points. Your search correctly returned ['a', 'z']\n",
      "\n",
      "Testing findBlank_8p([1, 2, 3, 4, 5, 6, 7, 0, 8])\n",
      " 5/ 5 points. Your findBlank_8p correctly returned 2 1\n",
      "\n",
      "Testing actionsF_8p([1, 2, 3, 4, 5, 6, 7, 0, 8])\n",
      "10/10 points. Your actionsF_8p correctly returned ['left', 'right', 'up']\n",
      "\n",
      "Testing takeActionF_8p([1, 2, 3, 4, 5, 6, 7, 0, 8],up)\n",
      "10/10 points. Your takeActionsF_8p correctly returned [1, 2, 3, 4, 0, 6, 7, 5, 8]\n",
      "\n",
      "Testing iterativeDeepeningSearch([1, 2, 3, 4, 5, 6, 7, 0, 8],[0, 2, 3, 1, 4,  6, 7, 5, 8], actionsF_8p, takeActionF_8p, 5)\n",
      "20/20 points. Your search correctly returned [[1, 2, 3, 4, 5, 6, 7, 0, 8], [1, 2, 3, 4, 0, 6, 7, 5, 8], [1, 2, 3, 0, 4, 6, 7, 5, 8], [0, 2, 3, 1, 4, 6, 7, 5, 8]]\n",
      "\n",
      "Testing iterativeDeepeningSearch([5, 2, 8, 0, 1, 4, 3, 7, 6], [0, 2, 3, 1, 4,  6, 7, 5, 8], actionsF_8p, takeActionF_8p, 10)\n",
      "20/20 points. Your search correctly returned cutoff\n",
      "\n",
      "notebook Grade is 80/80\n",
      "Up to 20 more points will be given based on the qualty of your descriptions of the method and the results.\n"
     ]
    }
   ],
   "source": [
    "%run -i A2grader.py"
   ]
  },
  {
   "cell_type": "markdown",
   "metadata": {
    "collapsed": true
   },
   "source": [
    "# Extra Example\n",
    "\n",
    "For an extra example for this assignment, I have tried to solve a Water-jug problem. \n",
    "\n",
    "### Summary of Example\n",
    "There are 2 jugs which are 4-gallon and 3-gallon with no mesurement marking on them. You can fill as much water as you can and pour the water to empty the vessel as per your requirement. The ultimate goal is to find the path such that 4-gallon jug have exactly 2 gallon of water in it at the end.\n",
    "\n",
    "The functional representation of the function is provided below. The function \"action_waterjug\" does the necessary calculation to find the next states that are possible from a given state. The function \"takeAction_waterjug\" returns the action that it receives. So there is not much that it does but to make the test case consistent with the IDLS function. The \"action_waterjug\" takes the state as input and tries to find all the states that could be possible for the case. The state are represented as (x,y) in tuple where x denotes the amount of water in 4-gallon jug and y denotes the amount of water in 3-gallon jug. So the valid input would be constructed with x<=4 and y<=3 with no fractional values, however, the IDLS would try to find the solution for the given state and match it to the goal state. In order to describe the task done in the function \"action_waterjug\", I would give an example how the states are computed.\n",
    "\n",
    "Let's suppose the initial state is (4,0) so either 4-gallon jug remains filled and 3-gallon jug can be filled up to produce(4,3) or both jugs could be emptied to produce (0,0) or 3-gallon jug can be filled with the water from 4-gallon jug to give (1,3). So the child state of (4,0) could be (4,3),(0,0),(1,3).\n",
    "\n",
    "                         (4,0)\n",
    "                         / | \\ \n",
    "                        /  |  \\\n",
    "                   (4,3) (1,3) (0,0)\n",
    " \n",
    " Now the IDLS is used to find the path to get to the goal state and the actual path is printed."
   ]
  },
  {
   "cell_type": "code",
   "execution_count": 81,
   "metadata": {
    "collapsed": true
   },
   "outputs": [],
   "source": [
    "def action_waterjug(state):\n",
    "    result = set()\n",
    "    x,y = state[0],state[1]\n",
    "    if x < 4:\n",
    "        result.add((4, y))\n",
    "    if y < 3:\n",
    "        result.add((x, 3))\n",
    "    if x > 0:\n",
    "        result.add((0, y))\n",
    "    if y > 0:\n",
    "        result.add((x, 0))\n",
    "    if y > 0 and ((x+y <= 4) and (x+y > 0)):\n",
    "        if y-(4-x) >=0:\n",
    "            result.add((4, y-(4-x)))\n",
    "    if x > 0 and ((x+y >= 3) and (x+y > 0)):\n",
    "        result.add((x-(3-y), 3))\n",
    "    if (x+y) <= 4 and y > 0:\n",
    "        val = ((x+y),0)\n",
    "        result.add(val)\n",
    "    if (x+y) <= 3 and x > 0:\n",
    "        val =(0,x+y)\n",
    "        result.add(val)\n",
    "    return list(result)\n",
    "\n",
    "def takeAction_waterjug(state,action):\n",
    "    return action"
   ]
  },
  {
   "cell_type": "code",
   "execution_count": 82,
   "metadata": {},
   "outputs": [
    {
     "data": {
      "text/plain": [
       "[(1, 3), (0, 0), (4, 3)]"
      ]
     },
     "execution_count": 82,
     "metadata": {},
     "output_type": "execute_result"
    }
   ],
   "source": [
    "startState = (4,0)\n",
    "goalState = (2,0)\n",
    "action_waterjug(startState)"
   ]
  },
  {
   "cell_type": "code",
   "execution_count": 83,
   "metadata": {},
   "outputs": [
    {
     "data": {
      "text/plain": [
       "'cutoff'"
      ]
     },
     "execution_count": 83,
     "metadata": {},
     "output_type": "execute_result"
    }
   ],
   "source": [
    "iterativeDeepeningSearch(startState,goalState,action_waterjug,takeAction_waterjug,3)"
   ]
  },
  {
   "cell_type": "code",
   "execution_count": 84,
   "metadata": {},
   "outputs": [
    {
     "data": {
      "text/plain": [
       "[(4, 0), (1, 3), (1, 0), (0, 1), (4, 1), (2, 3), (2, 0)]"
      ]
     },
     "execution_count": 84,
     "metadata": {},
     "output_type": "execute_result"
    }
   ],
   "source": [
    "iterativeDeepeningSearch(startState,goalState,action_waterjug,takeAction_waterjug,8)"
   ]
  }
 ],
 "metadata": {
  "anaconda-cloud": {},
  "kernelspec": {
   "display_name": "Python 3",
   "language": "python",
   "name": "python3"
  },
  "language_info": {
   "codemirror_mode": {
    "name": "ipython",
    "version": 3
   },
   "file_extension": ".py",
   "mimetype": "text/x-python",
   "name": "python",
   "nbconvert_exporter": "python",
   "pygments_lexer": "ipython3",
   "version": "3.6.2"
  }
 },
 "nbformat": 4,
 "nbformat_minor": 1
}
